{
 "cells": [
  {
   "cell_type": "markdown",
   "metadata": {},
   "source": [
    "# Before your start:\n",
    "- Read the README.md file\n",
    "- Comment as much as you can and use the resources in the README.md file\n",
    "- Happy learning!"
   ]
  },
  {
   "cell_type": "code",
   "execution_count": 5,
   "metadata": {},
   "outputs": [],
   "source": [
    "import re"
   ]
  },
  {
   "cell_type": "markdown",
   "metadata": {},
   "source": [
    "# Challenge 1 - Combining Strings\n",
    "\n",
    "Combining strings is an important skill to acquire. There are multiple ways of combining strings in Python, as well as combining strings with variables. We will explore this in the first challenge. In the cell below, combine the strings in the list and add spaces between the strings (do not add a space after the last string). Insert a period after the last string."
   ]
  },
  {
   "cell_type": "code",
   "execution_count": 6,
   "metadata": {},
   "outputs": [
    {
     "data": {
      "text/plain": [
       "'Durante un tiempo no estuvo segura de si su marido era su marido'"
      ]
     },
     "execution_count": 6,
     "metadata": {},
     "output_type": "execute_result"
    }
   ],
   "source": [
    "str_list = ['Durante', 'un', 'tiempo', 'no', 'estuvo', 'segura', 'de', 'si', 'su', 'marido', 'era', 'su', 'marido']\n",
    "# Your code here:\n",
    "\" \".join(str_list)"
   ]
  },
  {
   "cell_type": "markdown",
   "metadata": {},
   "source": [
    "In the cell below, use the list of strings to create a grocery list. Start the list with the string `Grocery list: ` and include a comma and a space between each item except for the last one. Include a period at the end. Only include foods in the list that start with the letter 'b' and ensure all foods are lower case."
   ]
  },
  {
   "cell_type": "code",
   "execution_count": 21,
   "metadata": {},
   "outputs": [
    {
     "name": "stdout",
     "output_type": "stream",
     "text": [
      "['bananas', 'chocolate', 'bread', 'diapers', 'ice cream', 'brownie mix', 'broccoli']\n",
      "['bananas', 'bread', 'brownie mix', 'broccoli']\n"
     ]
    }
   ],
   "source": [
    "food_list = ['Bananas', 'Chocolate', 'bread', 'diapers', 'Ice Cream', 'Brownie Mix', 'broccoli']\n",
    "# Your code here:\n",
    "\n",
    "for i in range(len(food_list)):\n",
    "    food_list[i]=food_list[i].lower()\n",
    "print(food_list)\n",
    "\n",
    "start_letter = 'b'\n",
    "grocery_list=[x for x in food_list if x.startswith(start_letter)]\n",
    "print(grocery_list)"
   ]
  },
  {
   "cell_type": "markdown",
   "metadata": {},
   "source": [
    "In the cell below, compute the area of a circle using its radius and insert the radius and the area between `string1` and `string2`. Make sure to include spaces between the variable and the strings. \n",
    "\n",
    "Note: You can use the techniques we have learned so far or use f-strings. F-strings allow us to embed code inside strings. You can read more about f-strings [here](https://www.python.org/dev/peps/pep-0498/)."
   ]
  },
  {
   "cell_type": "code",
   "execution_count": 31,
   "metadata": {},
   "outputs": [
    {
     "name": "stdout",
     "output_type": "stream",
     "text": [
      "The area of the circle with radius: 4.5 is: 28.274333882308138.\n"
     ]
    }
   ],
   "source": [
    "import math\n",
    "\n",
    "string1 = \"The area of the circle with radius:\"\n",
    "string2  = \"is:\"\n",
    "radius = 4.5\n",
    "pi = math.pi\n",
    "\n",
    "# Your code here:\n",
    "len_circle = (pi * 2) * radius\n",
    "print(string1 + \" \"+str(radius)+ \" \"+string2 +\" \"+str(len_circle)+\".\")"
   ]
  },
  {
   "cell_type": "markdown",
   "metadata": {},
   "source": [
    "# Challenge 2 - Splitting Strings\n",
    "\n",
    "We have first looked at combining strings into one long string. There are times where we need to do the opposite and split the string into smaller components for further analysis. \n",
    "\n",
    "In the cell below, split the string into a list of strings using the space delimiter. Count the frequency of each word in the string in a dictionary. Strip the periods, line breaks and commas from the text. Make sure to remove empty strings from your dictionary."
   ]
  },
  {
   "cell_type": "code",
   "execution_count": 8,
   "metadata": {},
   "outputs": [],
   "source": [
    "poem = \"\"\"Some say the world will end in fire,\n",
    "Some say in ice.\n",
    "From what I’ve tasted of desire\n",
    "I hold with those who favor fire.\n",
    "But if it had to perish twice,\n",
    "I think I know enough of hate\n",
    "To say that for destruction ice\n",
    "Is also great\n",
    "And would suffice.\"\"\"\n",
    "\n",
    "# Your code here:\n",
    "poem_coma=poem.replace(\",\",\" \")\n"
   ]
  },
  {
   "cell_type": "code",
   "execution_count": 9,
   "metadata": {},
   "outputs": [],
   "source": [
    "poem_dot=poem_coma.replace(\".\",\" \")"
   ]
  },
  {
   "cell_type": "code",
   "execution_count": 43,
   "metadata": {},
   "outputs": [
    {
     "name": "stdout",
     "output_type": "stream",
     "text": [
      "Some say the world will end in fire  Some say in ice  From what I’ve tasted of desire I hold with those who favor fire  But if it had to perish twice  I think I know enough of hate To say that for destruction ice Is also great And would suffice \n"
     ]
    }
   ],
   "source": [
    "poem_n=poem_dot.replace(\"\\n\",\" \")\n",
    "print(poem_n)"
   ]
  },
  {
   "cell_type": "code",
   "execution_count": 46,
   "metadata": {},
   "outputs": [
    {
     "name": "stdout",
     "output_type": "stream",
     "text": [
      "['Some', 'say', 'the', 'world', 'will', 'end', 'in', 'fire', '', 'Some', 'say', 'in', 'ice', '', 'From', 'what', 'I’ve', 'tasted', 'of', 'desire', 'I', 'hold', 'with', 'those', 'who', 'favor', 'fire', '', 'But', 'if', 'it', 'had', 'to', 'perish', 'twice', '', 'I', 'think', 'I', 'know', 'enough', 'of', 'hate', 'To', 'say', 'that', 'for', 'destruction', 'ice', 'Is', 'also', 'great', 'And', 'would', 'suffice', '']\n"
     ]
    }
   ],
   "source": [
    "poem_list=poem_n.split(\" \")\n",
    "print(poem_list)"
   ]
  },
  {
   "cell_type": "code",
   "execution_count": 51,
   "metadata": {},
   "outputs": [
    {
     "data": {
      "text/plain": [
       "2"
      ]
     },
     "execution_count": 51,
     "metadata": {},
     "output_type": "execute_result"
    }
   ],
   "source": [
    "poem_list.count(\"Some\")"
   ]
  },
  {
   "cell_type": "code",
   "execution_count": 64,
   "metadata": {},
   "outputs": [
    {
     "name": "stdout",
     "output_type": "stream",
     "text": [
      "[2, 3, 1, 1, 1, 1, 2, 2, 5, 2, 3, 2, 2, 5, 1, 1, 1, 1, 2, 1, 3, 1, 1, 1, 1, 1, 2, 5, 1, 1, 1, 1, 1, 1, 1, 5, 3, 1, 3, 1, 1, 2, 1, 1, 3, 1, 1, 1, 2, 1, 1, 1, 1, 1, 1, 5]\n"
     ]
    }
   ],
   "source": [
    "poem_list_counter=[]\n",
    "for i in poem_list:\n",
    "    poem_list_counter.append(poem_list.count(i))\n",
    "print(poem_list_counter)"
   ]
  },
  {
   "cell_type": "code",
   "execution_count": 65,
   "metadata": {},
   "outputs": [
    {
     "name": "stdout",
     "output_type": "stream",
     "text": [
      "{'Some': 2, 'say': 3, 'the': 1, 'world': 1, 'will': 1, 'end': 1, 'in': 2, 'fire': 2, '': 5, 'ice': 2, 'From': 1, 'what': 1, 'I’ve': 1, 'tasted': 1, 'of': 2, 'desire': 1, 'I': 3, 'hold': 1, 'with': 1, 'those': 1, 'who': 1, 'favor': 1, 'But': 1, 'if': 1, 'it': 1, 'had': 1, 'to': 1, 'perish': 1, 'twice': 1, 'think': 1, 'know': 1, 'enough': 1, 'hate': 1, 'To': 1, 'that': 1, 'for': 1, 'destruction': 1, 'Is': 1, 'also': 1, 'great': 1, 'And': 1, 'would': 1, 'suffice': 1}\n"
     ]
    }
   ],
   "source": [
    "poem_list\n",
    "poem_list_counter\n",
    "\n",
    "dictionary= dict(zip(poem_list,poem_list_counter))\n",
    "print(dictionary)\n"
   ]
  },
  {
   "cell_type": "markdown",
   "metadata": {},
   "source": [
    "In the cell below, find all the words that appear in the text and do not appear in the blacklist. You must parse the string but can choose any data structure you wish for the words that do not appear in the blacklist. Remove all non letter characters and convert all words to lower case."
   ]
  },
  {
   "cell_type": "code",
   "execution_count": 72,
   "metadata": {},
   "outputs": [],
   "source": [
    "blacklist = ['and', 'as', 'an', 'a', 'the', 'in', 'it']\n",
    "\n",
    "poem = \"\"\"I was angry with my friend; \n",
    "I told my wrath, my wrath did end.\n",
    "I was angry with my foe: \n",
    "I told it not, my wrath did grow. \n",
    "\n",
    "And I waterd it in fears,\n",
    "Night & morning with my tears: \n",
    "And I sunned it with smiles,\n",
    "And with soft deceitful wiles. \n",
    "\n",
    "And it grew both day and night. \n",
    "Till it bore an apple bright. \n",
    "And my foe beheld it shine,\n",
    "And he knew that it was mine. \n",
    "\n",
    "And into my garden stole, \n",
    "When the night had veild the pole; \n",
    "In the morning glad I see; \n",
    "My foe outstretched beneath the tree.\"\"\"\n",
    "\n",
    "# Your code here:\n",
    "poem_coma=poem.replace(\",\",\" \")\n",
    "\n"
   ]
  },
  {
   "cell_type": "code",
   "execution_count": 73,
   "metadata": {},
   "outputs": [],
   "source": [
    "poem_dot=poem_coma.replace(\".\",\" \")\n",
    "\n"
   ]
  },
  {
   "cell_type": "code",
   "execution_count": 77,
   "metadata": {},
   "outputs": [],
   "source": [
    "poem_dotcoma=poem_dot.replace(\";\",\" \")\n"
   ]
  },
  {
   "cell_type": "code",
   "execution_count": 78,
   "metadata": {},
   "outputs": [
    {
     "name": "stdout",
     "output_type": "stream",
     "text": [
      "I was angry with my friend  \n",
      "I told my wrath  my wrath did end \n",
      "I was angry with my foe  \n",
      "I told it not  my wrath did grow  \n",
      "\n",
      "And I waterd it in fears \n",
      "Night & morning with my tears  \n",
      "And I sunned it with smiles \n",
      "And with soft deceitful wiles  \n",
      "\n",
      "And it grew both day and night  \n",
      "Till it bore an apple bright  \n",
      "And my foe beheld it shine \n",
      "And he knew that it was mine  \n",
      "\n",
      "And into my garden stole  \n",
      "When the night had veild the pole  \n",
      "In the morning glad I see  \n",
      "My foe outstretched beneath the tree \n"
     ]
    }
   ],
   "source": [
    "poem_dobledot=poem_dotcoma.replace(\":\",\" \")\n",
    "print(poem_dobledot)"
   ]
  },
  {
   "cell_type": "code",
   "execution_count": 83,
   "metadata": {},
   "outputs": [],
   "source": [
    "poem_n=poem_dobledot.replace(\"\\n\",\" \")"
   ]
  },
  {
   "cell_type": "code",
   "execution_count": 84,
   "metadata": {},
   "outputs": [],
   "source": [
    "poem_x=poem_n.replace(\"&\",\" \")"
   ]
  },
  {
   "cell_type": "code",
   "execution_count": 71,
   "metadata": {},
   "outputs": [
    {
     "name": "stdout",
     "output_type": "stream",
     "text": [
      "['I', 'was', 'angry', 'with', 'my', 'friend', '', '', 'I', 'told', 'my', 'wrath', '', 'my', 'wrath', 'did', 'end', '', 'I', 'was', 'angry', 'with', 'my', 'foe', '', '', 'I', 'told', 'it', 'not', '', 'my', 'wrath', 'did', 'grow', '', '', '', 'And', 'I', 'waterd', 'it', 'in', 'fears', '', 'Night', '', '', 'morning', 'with', 'my', 'tears', '', '', 'And', 'I', 'sunned', 'it', 'with', 'smiles', '', 'And', 'with', 'soft', 'deceitful', 'wiles', '', '', '', 'And', 'it', 'grew', 'both', 'day', 'and', 'night', '', '', 'Till', 'it', 'bore', 'an', 'apple', 'bright', '', '', 'And', 'my', 'foe', 'beheld', 'it', 'shine', '', 'And', 'he', 'knew', 'that', 'it', 'was', 'mine', '', '', '', 'And', 'into', 'my', 'garden', 'stole', '', '', 'When', 'the', 'night', 'had', 'veild', 'the', 'pole', '', '', 'In', 'the', 'morning', 'glad', 'I', 'see', '', '', 'My', 'foe', 'outstretched', 'beneath', 'the', 'tree', '']\n"
     ]
    }
   ],
   "source": [
    "poem_list=poem_x.split(\" \")\n",
    "print(poem_list)"
   ]
  },
  {
   "cell_type": "code",
   "execution_count": 3,
   "metadata": {},
   "outputs": [
    {
     "name": "stdout",
     "output_type": "stream",
     "text": [
      "Requirement already satisfied: numpy in /usr/local/Cellar/jupyterlab/2.2.8/libexec/lib/python3.8/site-packages (1.19.2)\n",
      "\u001b[33mWARNING: You are using pip version 20.2.3; however, version 20.2.4 is available.\n",
      "You should consider upgrading via the '/usr/local/Cellar/jupyterlab/2.2.8/libexec/bin/python3.8 -m pip install --upgrade pip' command.\u001b[0m\n"
     ]
    }
   ],
   "source": [
    "import sys\n",
    "!{sys.executable} -m pip install numpy"
   ]
  },
  {
   "cell_type": "code",
   "execution_count": 4,
   "metadata": {},
   "outputs": [],
   "source": [
    "import numpy as np"
   ]
  },
  {
   "cell_type": "code",
   "execution_count": 7,
   "metadata": {},
   "outputs": [
    {
     "name": "stdout",
     "output_type": "stream",
     "text": [
      "['' 'And' 'I' 'In' 'My' 'Night' 'Till' 'When' 'angry' 'apple' 'beheld'\n",
      " 'beneath' 'bore' 'both' 'bright' 'day' 'deceitful' 'did' 'end' 'fears'\n",
      " 'foe' 'friend' 'garden' 'glad' 'grew' 'grow' 'had' 'he' 'into' 'knew'\n",
      " 'mine' 'morning' 'my' 'night' 'not' 'outstretched' 'pole' 'see' 'shine'\n",
      " 'smiles' 'soft' 'stole' 'sunned' 'tears' 'that' 'told' 'tree' 'veild'\n",
      " 'was' 'waterd' 'wiles' 'with' 'wrath']\n"
     ]
    }
   ],
   "source": [
    "blacklist = ['and', 'as', 'an', 'a', 'the', 'in', 'it']\n",
    "poem_list = ['I', 'was', 'angry', 'with', 'my', 'friend', '', '', 'I', 'told', 'my', 'wrath', '', 'my', 'wrath', 'did', 'end', '', 'I', 'was', 'angry', 'with', 'my', 'foe', '', '', 'I', 'told', 'it', 'not', '', 'my', 'wrath', 'did', 'grow', '', '', '', 'And', 'I', 'waterd', 'it', 'in', 'fears', '', 'Night', '', '', 'morning', 'with', 'my', 'tears', '', '', 'And', 'I', 'sunned', 'it', 'with', 'smiles', '', 'And', 'with', 'soft', 'deceitful', 'wiles', '', '', '', 'And', 'it', 'grew', 'both', 'day', 'and', 'night', '', '', 'Till', 'it', 'bore', 'an', 'apple', 'bright', '', '', 'And', 'my', 'foe', 'beheld', 'it', 'shine', '', 'And', 'he', 'knew', 'that', 'it', 'was', 'mine', '', '', '', 'And', 'into', 'my', 'garden', 'stole', '', '', 'When', 'the', 'night', 'had', 'veild', 'the', 'pole', '', '', 'In', 'the', 'morning', 'glad', 'I', 'see', '', '', 'My', 'foe', 'outstretched', 'beneath', 'the', 'tree', '']\n",
    "\n",
    "main_list = np.setdiff1d(poem_list,blacklist)\n",
    "print(main_list)"
   ]
  },
  {
   "cell_type": "code",
   "execution_count": 10,
   "metadata": {},
   "outputs": [
    {
     "name": "stdout",
     "output_type": "stream",
     "text": [
      "['' 'and' 'i' 'in' 'my' 'night' 'till' 'when' 'angry' 'apple' 'beheld'\n",
      " 'beneath' 'bore' 'both' 'bright' 'day' 'deceitful' 'did' 'end' 'fears'\n",
      " 'foe' 'friend' 'garden' 'glad' 'grew' 'grow' 'had' 'he' 'into' 'knew'\n",
      " 'mine' 'morning' 'my' 'night' 'not' 'outstretched' 'pole' 'see' 'shine'\n",
      " 'smiles' 'soft' 'stole' 'sunned' 'tears' 'that' 'told' 'tree' 'veild'\n",
      " 'was' 'waterd' 'wiles' 'with' 'wrath']\n"
     ]
    }
   ],
   "source": [
    "for i in range(len(main_list)):\n",
    "    main_list[i]=main_list[i].lower()\n",
    "print(main_list)"
   ]
  },
  {
   "cell_type": "code",
   "execution_count": null,
   "metadata": {},
   "outputs": [],
   "source": [
    "# animals list\n",
    "animals = ['cat', 'dog', 'rabbit', 'guinea pig']\n",
    "\n",
    "# 'rabbit' is removed\n",
    "animals.remove('rabbit')"
   ]
  },
  {
   "cell_type": "code",
   "execution_count": 17,
   "metadata": {},
   "outputs": [
    {
     "name": "stdout",
     "output_type": "stream",
     "text": [
      "['and' 'i' 'in' 'my' 'night' 'till' 'when' 'angry' 'apple' 'beheld'\n",
      " 'beneath' 'bore' 'both' 'bright' 'day' 'deceitful' 'did' 'end' 'fears'\n",
      " 'foe' 'friend' 'garden' 'glad' 'grew' 'grow' 'had' 'he' 'into' 'knew'\n",
      " 'mine' 'morning' 'my' 'night' 'not' 'outstretched' 'pole' 'see' 'shine'\n",
      " 'smiles' 'soft' 'stole' 'sunned' 'tears' 'that' 'told' 'tree' 'veild'\n",
      " 'was' 'waterd' 'wiles' 'with' 'wrath']\n"
     ]
    }
   ],
   "source": [
    "new_main_list=np.delete(main_list, 0)\n",
    "print(new_main_list)"
   ]
  },
  {
   "cell_type": "markdown",
   "metadata": {},
   "source": [
    "# Bonus 1 - Regular Expressions\n",
    "\n",
    "Sometimes, we would like to perform more complex manipulations of our string. This is where regular expressions come in handy. In the cell below, return all characters that are upper case from the string specified below."
   ]
  },
  {
   "cell_type": "code",
   "execution_count": 7,
   "metadata": {},
   "outputs": [],
   "source": [
    "poem = \"\"\"The apparition of these faces in the crowd;\n",
    "Petals on a wet, black bough.\"\"\"\n",
    "\n",
    "# Your code here:\n"
   ]
  },
  {
   "cell_type": "markdown",
   "metadata": {},
   "source": [
    "In the cell below, filter the list provided and return all elements of the list containing a number. To filter the list, use the `re.search` function. Check if the function does not return `None`. You can read more about the `re.search` function [here](https://docs.python.org/3/library/re.html)."
   ]
  },
  {
   "cell_type": "code",
   "execution_count": 8,
   "metadata": {},
   "outputs": [],
   "source": [
    "data = ['123abc', 'abc123', 'JohnSmith1', 'ABBY4', 'JANE']\n",
    "\n",
    "# Your code here:\n"
   ]
  },
  {
   "cell_type": "markdown",
   "metadata": {},
   "source": [
    "# Bonus 2 - Regular Expressions II\n",
    "\n",
    "In the cell below, filter the list provided to keep only strings containing at least one digit and at least one lower case letter. As in the previous question, use the `re.search` function and check that the result is not `None`.\n",
    "\n",
    "To read more about regular expressions, check out [this link](https://developers.google.com/edu/python/regular-expressions)."
   ]
  },
  {
   "cell_type": "code",
   "execution_count": 9,
   "metadata": {},
   "outputs": [],
   "source": [
    "data = ['123abc', 'abc123', 'JohnSmith1', 'ABBY4', 'JANE']\n",
    "\n",
    "# Your code here:\n"
   ]
  }
 ],
 "metadata": {
  "file_extension": ".py",
  "kernelspec": {
   "display_name": "Python 3",
   "language": "python",
   "name": "python3"
  },
  "language_info": {
   "codemirror_mode": {
    "name": "ipython",
    "version": 3
   },
   "file_extension": ".py",
   "mimetype": "text/x-python",
   "name": "python",
   "nbconvert_exporter": "python",
   "pygments_lexer": "ipython3",
   "version": "3.8.6"
  },
  "mimetype": "text/x-python",
  "name": "python",
  "npconvert_exporter": "python",
  "pygments_lexer": "ipython3",
  "version": 3
 },
 "nbformat": 4,
 "nbformat_minor": 2
}
